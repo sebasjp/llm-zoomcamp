{
 "cells": [
  {
   "cell_type": "code",
   "execution_count": 1,
   "metadata": {},
   "outputs": [],
   "source": [
    "import pickle\n",
    "import numpy as np"
   ]
  },
  {
   "cell_type": "code",
   "execution_count": 2,
   "metadata": {},
   "outputs": [
    {
     "name": "stdout",
     "output_type": "stream",
     "text": [
      "# de documentos: 15\n"
     ]
    },
    {
     "data": {
      "text/plain": [
       "{'id': '2a3d5c52',\n",
       " 'url': 'https://www.metrocuadrado.com/noticias/actualidad/baja-de-tasas-de-interes-facilita-la-compra-de-vivienda-en-2024-4799',\n",
       " 'title': 'baja de tasas de interes facilita la compra de vivienda en 2024',\n",
       " 'content': 'la compra de vivienda para muchos colombianos se ha visto afectada por diferentes factores economicos como la inflacion, devaluacion de la moneda, entre otros. frente a este panorama, muchos sectores, como el financiero, presentan medidas para la reactivacion de la economia.\\nel banco de la republica viene haciendo reduccion de tasas de interes desde febrero del 2024, llegando en julio a 11.25%, y logrando a los mismos valores de octubre de 2022 cuando inicio un ascenso considerable de estas tasas.\\nestas medidas, se hacen efectivas y positivas para los compradores de vivienda porque desde los primeros dias de julio, 10 entidades bancarias se han sumado y han bajado las tasas de interes para:\\nlas 10 entidades bancarias que han entrado en la denominada \"guerra de tasas\" son el grupo aval: banco de bogota, banco av villas, banco de occidente y banco popular; bancolombia, davivienda, bbva, banco caja social, confiar y el fna.\\n\\nlos interesados en la compra de vivienda en colombia tienen ahora una posibilidad mas factible de invertir, pues si antes un credito hipotecario de $120 millones estaba con tasas de interes del 15% efectivo anual a 15 anos, la persona que pagaria $270 millones en intereses, al bajar a un 10% pagaria $180 millones en intereses.\\nla baja de tasas de interes en 2024 tambien impacta positivamente a quienes ya tienen un credito de vivienda y quieren realizar una compra de cartera hipotecaria; asi muchos colombianos pueden bajar sus cuotas mensuales del credito, teniendo mas efectivo, o pueden acortar el tiempo en el que quieren pagar su credito, por ejemplo, de 15 a 10 anos.\\n\\nla reactivacion del sector constructor y de vivienda, es muy importante, luego de mas de 21 meses de caida en las ventas de vivienda,  con un -34% de viviendas nuevas vendidas en los ultimos doce meses a marzo del 2024, segun cifras de camacol. no solo las ventas de vivienda se han visto afectadas sino tambien los creditos hipotecarios que, en 2023, tuvieron -15.97%  de desembolsos menos (170.515) comparado con 2022, y que paso de desembolsar $24.64 billones de pesos en 2022 a $19.10 billones en 2023, con una caida de -22.48%, segun el ultimo informe de asobancaria.\\nesta oportunidad busca entonces que quienes desean comprar inmuebles para vivir o invertir y han estado esperando el descenso de tasas, puedan iniciar el proceso y aprovechar estas medidas de reactivacion.\\ncomo aprovechar la baja de tasas de interes?\\ncon estos nuevos anuncios, en metrocuadrado desde febrero de 2024, aquellos que desean comprar vivienda pueden simular su credito hipotecario, leasing habitacional o compra de cartera.  en el simulador podran conocer cuanto les prestara el banco, los intereses de los 4 bancos aliados (banco de bogota, banco av villas, banco de occidente y banco popular) y en cuanto quedara la cuota mensual de su credito o leasing.\\nestas son las tasas para compra de vivienda que estan en el simulador, desde:\\nsimula tu credito,  da clic en la imagen, conoce las nuevas tasas y escoge el banco que se acomode a tus intereses:\\nsi deseas tener mejores cuotas mensuales o pagar en menos tiempo puedes hacerlo con la compra de cartera dando clic en la imagen:\\n\\nfuente: asobancaria, camacol, grupo aval.'}"
      ]
     },
     "execution_count": 2,
     "metadata": {},
     "output_type": "execute_result"
    }
   ],
   "source": [
    "with open('documents.bin', 'rb') as f_in:\n",
    "    results = pickle.load(f_in)\n",
    "\n",
    "print(\"# de documentos:\", len(results))\n",
    "results[0]"
   ]
  },
  {
   "cell_type": "code",
   "execution_count": 3,
   "metadata": {},
   "outputs": [],
   "source": [
    "def describe_docs(num_caracteres: list):\n",
    "    print(\n",
    "        f\"min: {round(np.min(num_caracteres))}\", \n",
    "        f\"mean: {round(np.mean(num_caracteres))}\",\n",
    "        f\"median: {round(np.median(num_caracteres))}\",\n",
    "        f\"max: {round(np.max(num_caracteres))}\"\n",
    "    )"
   ]
  },
  {
   "cell_type": "code",
   "execution_count": 4,
   "metadata": {},
   "outputs": [
    {
     "name": "stdout",
     "output_type": "stream",
     "text": [
      "min: 3223 mean: 7575 median: 6807 max: 15569\n"
     ]
    }
   ],
   "source": [
    "# solo el contenido\n",
    "num_caracteres = [len(doc[\"content\"]) for doc in results]\n",
    "describe_docs(num_caracteres)"
   ]
  },
  {
   "cell_type": "code",
   "execution_count": 5,
   "metadata": {},
   "outputs": [
    {
     "name": "stdout",
     "output_type": "stream",
     "text": [
      "min: 34 mean: 56 median: 59 max: 93\n"
     ]
    }
   ],
   "source": [
    "# titulo\n",
    "num_caracteres = [len(doc[\"title\"]) for doc in results]\n",
    "describe_docs(num_caracteres)"
   ]
  },
  {
   "cell_type": "code",
   "execution_count": 6,
   "metadata": {},
   "outputs": [
    {
     "name": "stdout",
     "output_type": "stream",
     "text": [
      "min: 3287 mean: 7632 median: 6856 max: 15618\n"
     ]
    }
   ],
   "source": [
    "# titulo + contenido\n",
    "num_caracteres = [len(doc[\"title\"]+\"\\n\"+doc[\"content\"]) for doc in results]\n",
    "describe_docs(num_caracteres)"
   ]
  },
  {
   "cell_type": "markdown",
   "metadata": {},
   "source": [
    "De acuerdo con los modelos en la documentación [sentence_transformer/pretrained_models](https://www.sbert.net/docs/sentence_transformer/pretrained_models.html) y en el [leaderboard](https://huggingface.co/spaces/mteb/leaderboard) (los que mejor performance promedio tienen y el uso de memoria en GB no es muy elevado), vamos a probar los siguientes modelos:\n",
    "\n",
    "\n",
    "* [multilingual-e5-large-instruct](https://huggingface.co/intfloat/multilingual-e5-large-instruct)\n",
    "    + Max Tokens: 514\n",
    "    + Uso de memoria GB: 2.09\n",
    "    + Dimension embeddings: 1024\n",
    "    + https://www.pinecone.io/learn/the-practitioners-guide-to-e5/\n",
    "\n",
    "\n",
    "* [multilingual-e5-small](https://huggingface.co/intfloat/multilingual-e5-small)\n",
    "    + Max Tokens: 512\n",
    "    + Uso de memoria GB: 0.44\n",
    "    + Dimension embeddings: 384\n",
    "\n",
    "* [paraphrase-multilingual-mpnet-base-v2](https://huggingface.co/sentence-transformers/paraphrase-multilingual-mpnet-base-v2)\n",
    "    + Max Tokens: 514\n",
    "    + Uso de memoria GB: 1.04\n",
    "    + Dimension embeddings: 768\n",
    "\n",
    "\n",
    "Teniendo en cuenta la cantidad máxima de tokens de cada modelo y que los documentos que tenemos evidentemente superan esta cantidad de tokens, entonces realizaremos un preprocesamiento de los doumentos, dividiendolos en chunks."
   ]
  },
  {
   "cell_type": "markdown",
   "metadata": {},
   "source": [
    "### Preprocesamiento"
   ]
  },
  {
   "cell_type": "code",
   "execution_count": 8,
   "metadata": {},
   "outputs": [],
   "source": [
    "from langchain_text_splitters import CharacterTextSplitter"
   ]
  },
  {
   "cell_type": "code",
   "execution_count": 9,
   "metadata": {},
   "outputs": [],
   "source": [
    "documents = [doc[\"content\"] for doc in results]\n",
    "metadatas = [\n",
    "    {\"id\": doc[\"id\"], \"title\": doc[\"title\"]} \n",
    "    for doc in results\n",
    "]"
   ]
  },
  {
   "cell_type": "code",
   "execution_count": 10,
   "metadata": {},
   "outputs": [
    {
     "name": "stdout",
     "output_type": "stream",
     "text": [
      "page_content='la compra de vivienda para muchos colombianos se ha visto afectada por diferentes factores economicos como la inflacion, devaluacion de la moneda, entre otros. frente a este panorama, muchos sectores, como el financiero, presentan medidas para la reactivacion de la economia.\n",
      "el banco de la republica viene haciendo reduccion de tasas de interes desde febrero del 2024, llegando en julio a 11.25%, y' metadata={'id': '2a3d5c52', 'title': 'baja de tasas de interes facilita la compra de vivienda en 2024'}\n"
     ]
    }
   ],
   "source": [
    "text_splitter = CharacterTextSplitter(\n",
    "    separator=\" \",\n",
    "    chunk_size=400,\n",
    "    length_function=len,\n",
    ")\n",
    "texts = text_splitter.create_documents(documents, metadatas=metadatas)\n",
    "len(texts)\n",
    "print(texts[0])"
   ]
  },
  {
   "cell_type": "code",
   "execution_count": 11,
   "metadata": {},
   "outputs": [],
   "source": [
    "for i in range(len(texts)):\n",
    "    texts[i].page_content = texts[i].metadata[\"title\"] +\"\\n\"+ texts[i].page_content"
   ]
  },
  {
   "cell_type": "code",
   "execution_count": 12,
   "metadata": {},
   "outputs": [
    {
     "name": "stdout",
     "output_type": "stream",
     "text": [
      "page_content='baja de tasas de interes facilita la compra de vivienda en 2024\n",
      "la compra de vivienda para muchos colombianos se ha visto afectada por diferentes factores economicos como la inflacion, devaluacion de la moneda, entre otros. frente a este panorama, muchos sectores, como el financiero, presentan medidas para la reactivacion de la economia.\n",
      "el banco de la republica viene haciendo reduccion de tasas de interes desde febrero del 2024, llegando en julio a 11.25%, y' metadata={'id': '2a3d5c52', 'title': 'baja de tasas de interes facilita la compra de vivienda en 2024'}\n"
     ]
    }
   ],
   "source": [
    "print(texts[0])"
   ]
  },
  {
   "cell_type": "code",
   "execution_count": 13,
   "metadata": {},
   "outputs": [
    {
     "name": "stdout",
     "output_type": "stream",
     "text": [
      "min: 265 mean: 448 median: 449 max: 494\n"
     ]
    }
   ],
   "source": [
    "# titulo + contenido\n",
    "num_caracteres = [len(doc.page_content) for doc in texts]\n",
    "describe_docs(num_caracteres)"
   ]
  },
  {
   "cell_type": "code",
   "execution_count": 21,
   "metadata": {},
   "outputs": [
    {
     "ename": "",
     "evalue": "",
     "output_type": "error",
     "traceback": [
      "\u001b[1;31mThe Kernel crashed while executing code in the current cell or a previous cell. \n",
      "\u001b[1;31mPlease review the code in the cell(s) to identify a possible cause of the failure. \n",
      "\u001b[1;31mClick <a href='https://aka.ms/vscodeJupyterKernelCrash'>here</a> for more info. \n",
      "\u001b[1;31mView Jupyter <a href='command:jupyter.viewOutput'>log</a> for further details."
     ]
    }
   ],
   "source": [
    "# save file\n",
    "with open('chunks.bin', 'wb') as handle:\n",
    "    pickle.dump(texts, handle)"
   ]
  },
  {
   "cell_type": "markdown",
   "metadata": {},
   "source": [
    "### Generacion de embedding de ejemplo"
   ]
  },
  {
   "cell_type": "code",
   "execution_count": 17,
   "metadata": {},
   "outputs": [
    {
     "name": "stderr",
     "output_type": "stream",
     "text": [
      "Batches: 100%|██████████| 1/1 [00:00<00:00,  2.48it/s]\n"
     ]
    }
   ],
   "source": [
    "from sentence_transformers import SentenceTransformer\n",
    "\n",
    "model = SentenceTransformer('intfloat/multilingual-e5-small')\n",
    "\n",
    "input_texts = [\n",
    "    f'passage: {texts[0].page_content}',\n",
    "]\n",
    "embeddings = model.encode(input_texts, normalize_embeddings=True, show_progress_bar=True)"
   ]
  },
  {
   "cell_type": "code",
   "execution_count": 18,
   "metadata": {},
   "outputs": [
    {
     "name": "stdout",
     "output_type": "stream",
     "text": [
      "Dimension del vector de embeddings 384\n"
     ]
    },
    {
     "data": {
      "text/plain": [
       "array([-0.01406619,  0.00473391, -0.0263987 , -0.10681732,  0.03214642,\n",
       "       -0.04709134,  0.03635797,  0.06220098,  0.09489433,  0.01204683],\n",
       "      dtype=float32)"
      ]
     },
     "execution_count": 18,
     "metadata": {},
     "output_type": "execute_result"
    }
   ],
   "source": [
    "print(\"Dimension del vector de embeddings\", len(embeddings[0]))\n",
    "embeddings[0][:10]"
   ]
  },
  {
   "cell_type": "code",
   "execution_count": 19,
   "metadata": {},
   "outputs": [
    {
     "data": {
      "text/plain": [
       "array([[1.]], dtype=float32)"
      ]
     },
     "execution_count": 19,
     "metadata": {},
     "output_type": "execute_result"
    }
   ],
   "source": [
    "# producto punto: validar que el vector este normalizado\n",
    "embeddings @ embeddings.T"
   ]
  },
  {
   "cell_type": "markdown",
   "metadata": {},
   "source": [
    "---"
   ]
  }
 ],
 "metadata": {
  "kernelspec": {
   "display_name": "venv",
   "language": "python",
   "name": "python3"
  },
  "language_info": {
   "codemirror_mode": {
    "name": "ipython",
    "version": 3
   },
   "file_extension": ".py",
   "mimetype": "text/x-python",
   "name": "python",
   "nbconvert_exporter": "python",
   "pygments_lexer": "ipython3",
   "version": "3.10.12"
  }
 },
 "nbformat": 4,
 "nbformat_minor": 2
}
