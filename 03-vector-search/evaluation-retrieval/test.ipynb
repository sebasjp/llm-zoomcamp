{
 "cells": [
  {
   "cell_type": "code",
   "execution_count": null,
   "metadata": {},
   "outputs": [],
   "source": [
    "### Creación del ground-truth dataset\n",
    "\n",
    "https://github.com/DataTalksClub/llm-zoomcamp/blob/main/03-vector-search/eval/ground-truth-data.ipynb\n",
    "\n",
    "A partir de la base de conocimiento [FAQ](https://github.com/DataTalksClub/llm-zoomcamp/blob/main/01-intro/documents.json?raw=1) se generan 5 preguntas utilizando el modelo GPT-4o de OpenAI. Las cuales serán utilizadas para simular preguntas de los usuarios y evaluar la calidad de los documentos recuperados (retrieval), que en ultimas, es evaluar la calidad de: ```embeddings (modelo + data usada) + bd vectorial```\n",
    "\n",
    "Para este ejercicio es importante generar ids para cada documento."
   ]
  }
 ],
 "metadata": {
  "kernelspec": {
   "display_name": "venv",
   "language": "python",
   "name": "python3"
  },
  "language_info": {
   "name": "python",
   "version": "3.10.12"
  }
 },
 "nbformat": 4,
 "nbformat_minor": 2
}
